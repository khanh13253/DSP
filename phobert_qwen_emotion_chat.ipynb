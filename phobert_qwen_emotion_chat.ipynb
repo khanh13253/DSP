{
 "cells": [
  {
   "cell_type": "code",
   "execution_count": 1,
   "id": "17402f4e",
   "metadata": {},
   "outputs": [
    {
     "name": "stderr",
     "output_type": "stream",
     "text": [
      "C:\\Users\\Admin\\AppData\\Roaming\\Python\\Python311\\site-packages\\tqdm\\auto.py:21: TqdmWarning: IProgress not found. Please update jupyter and ipywidgets. See https://ipywidgets.readthedocs.io/en/stable/user_install.html\n",
      "  from .autonotebook import tqdm as notebook_tqdm\n"
     ]
    }
   ],
   "source": [
    "import torch\n",
    "from transformers import (\n",
    "    AutoModelForSequenceClassification,\n",
    "    AutoTokenizer,\n",
    "    AutoModelForCausalLM,\n",
    "    pipeline\n",
    ")\n",
    "import warnings\n",
    "warnings.filterwarnings(\"ignore\")"
   ]
  },
  {
   "cell_type": "code",
   "execution_count": 2,
   "id": "df83fa8a",
   "metadata": {},
   "outputs": [
    {
     "name": "stdout",
     "output_type": "stream",
     "text": [
      "✅ PhoBERT loaded. Labels: ['Accepting', 'Anger', 'Disappointed', 'Disgust', 'Enjoyment', 'Fear', 'Highly Negative', 'Hopeless', 'Hurt', 'Indifferent', 'Loneliness', 'Lonely', 'Neutral', 'Other', 'Sadness', 'Spam', 'Surprise']\n"
     ]
    }
   ],
   "source": [
    "# Load PhoBERT emotion classifier\n",
    "PHOBERT_PATH = \"./phobert-emotion-final\"\n",
    "phobert_model = AutoModelForSequenceClassification.from_pretrained(PHOBERT_PATH)\n",
    "phobert_tokenizer = AutoTokenizer.from_pretrained(PHOBERT_PATH)\n",
    "\n",
    "id2label = phobert_model.config.id2label\n",
    "print(\"✅ PhoBERT loaded. Labels:\", list(id2label.values()))"
   ]
  },
  {
   "cell_type": "code",
   "execution_count": 3,
   "id": "827d5f54",
   "metadata": {},
   "outputs": [
    {
     "name": "stderr",
     "output_type": "stream",
     "text": [
      "`torch_dtype` is deprecated! Use `dtype` instead!\n",
      "Xet Storage is enabled for this repo, but the 'hf_xet' package is not installed. Falling back to regular HTTP download. For better performance, install the package with: `pip install huggingface_hub[hf_xet]` or `pip install hf_xet`\n",
      "Some parameters are on the meta device because they were offloaded to the disk and cpu.\n",
      "Device set to use cpu\n"
     ]
    },
    {
     "name": "stdout",
     "output_type": "stream",
     "text": [
      "✅ Qwen loaded successfully!\n"
     ]
    }
   ],
   "source": [
    "# Chọn model Qwen nhỏ để chạy được trên GPU/CPU phổ thông\n",
    "QWEN_MODEL_NAME = \"Qwen/Qwen1.5-1.8B-Chat\"\n",
    "\n",
    "# Tải tokenizer và model\n",
    "qwen_tokenizer = AutoTokenizer.from_pretrained(QWEN_MODEL_NAME, trust_remote_code=True)\n",
    "qwen_model = AutoModelForCausalLM.from_pretrained(\n",
    "    QWEN_MODEL_NAME,\n",
    "    torch_dtype=torch.float16 if torch.cuda.is_available() else torch.float32,\n",
    "    device_map=\"auto\",\n",
    "    trust_remote_code=True\n",
    ")\n",
    "\n",
    "# Tạo pipeline chat\n",
    "qwen_pipe = pipeline(\n",
    "    \"text-generation\",\n",
    "    model=qwen_model,\n",
    "    tokenizer=qwen_tokenizer,\n",
    "    device_map=\"auto\"\n",
    ")\n",
    "\n",
    "print(\"✅ Qwen loaded successfully!\")"
   ]
  },
  {
   "cell_type": "code",
   "execution_count": 4,
   "id": "b5ba1e31",
   "metadata": {},
   "outputs": [],
   "source": [
    "def get_emotion(text):\n",
    "    \"\"\"Dự đoán cảm xúc bằng PhoBERT\"\"\"\n",
    "    inputs = phobert_tokenizer(\n",
    "        text,\n",
    "        return_tensors=\"pt\",\n",
    "        truncation=True,\n",
    "        padding=True,\n",
    "        max_length=128\n",
    "    ).to(phobert_model.device)\n",
    "    \n",
    "    with torch.no_grad():\n",
    "        logits = phobert_model(**inputs).logits\n",
    "        pred_id = logits.argmax().item()\n",
    "    return id2label[pred_id]\n",
    "\n",
    "def generate_response(emotion, user_text, max_new_tokens=128):\n",
    "    \"\"\"Sinh phản hồi an ủi bằng Qwen\"\"\"\n",
    "    # Tạo prompt theo cảm xúc\n",
    "    prompt = f\"\"\"Bạn là một người bạn đồng cảm và nhẹ nhàng. \n",
    "Hãy phản hồi ngắn gọn (1-2 câu), chân thành và an ủi người đang cảm thấy \"{emotion}\".\n",
    "Không cần lặp lại cảm xúc, chỉ cần thể hiện sự thấu hiểu và động viên.\n",
    "\n",
    "Lời tâm sự: \"{user_text}\"\n",
    "\n",
    "Phản hồi:\"\"\"\n",
    "    \n",
    "    response = qwen_pipe(\n",
    "        prompt,\n",
    "        max_new_tokens=max_new_tokens,\n",
    "        do_sample=True,\n",
    "        temperature=0.7,\n",
    "        top_p=0.9,\n",
    "        pad_token_id=qwen_tokenizer.eos_token_id\n",
    "    )\n",
    "    \n",
    "    # Trích xuất text sinh ra\n",
    "    full_text = response[0]['generated_text']\n",
    "    reply = full_text.split(\"Phản hồi:\")[-1].strip()\n",
    "    return reply"
   ]
  },
  {
   "cell_type": "code",
   "execution_count": 5,
   "id": "5d98e887",
   "metadata": {},
   "outputs": [
    {
     "name": "stdout",
     "output_type": "stream",
     "text": [
      "💬 Người dùng: Dạo này mình cảm thấy rất cô đơn, không ai hiểu mình cả.\n",
      "🧠 Cảm xúc phát hiện: Sadness\n",
      "💬 Qwen: \"Xin lỗi, tôi biết rằng cảm xúc như vậy thường có nhiều tác động tích cực đến sức khỏe và hạnh phúc của chúng ta. Tôi có thể giúp gì cho bạn trong thời gian này? Bạn có thể nói về những điều mà bạn cảm thấy cô đơn nhất và tôi sẽ cố gắng tìm kiếm giải pháp để giúp bạn trở nên tự do hơn và tiếp tục sống tốt đẹp hơn.\"\n",
      "--------------------------------------------------------------------------------\n",
      "💬 Người dùng: Mình vừa bị mất việc, cảm thấy tuyệt vọng quá.\n",
      "🧠 Cảm xúc phát hiện: Sadness\n",
      "💬 Qwen: **Sự thách thức:** Tôi cảm thấy rất khó khăn vì tôi đã làm việc cho công ty này hàng năm, và tôi không thể tìm được một vị trí mới có thể giúp tôi trở về trong tương lai. Tôi luôn nghĩ rằng mình sẽ tiếp tục làm việc tốt hơn trong tương lai và tôi muốn tiếp tục được hỗ trợ của công ty để giúp tôi đối phó với những thử thách này.\n",
      "**Tài liệu:** Tôi đã dành nhiều thời gian và công sức để giáo dục bản thân trong lĩnh vực công nghệ và tôi đã đạt được một số bằng chứng và bài tập mà tôi đã tạo ra.\n",
      "--------------------------------------------------------------------------------\n",
      "💬 Người dùng: Hôm nay mình rất vui vì được khen trước cả lớp!\n",
      "🧠 Cảm xúc phát hiện: Enjoyment\n",
      "💬 Qwen: \"Xin cảm ơn bạn đã đưa ra những ý kiến和支持 tôi trong cuộc sống. Tôi đã tìm thấy một cách để tiếp tục trải nghiệm tình yêu và sự hạnh phúc này bằng cách tập trung vào các vấn đề và nhận thức của mình hơn. Tôi sẽ tiếp tục đối mặt với những thử thách và thách thức này với tư cách tốt hơn và更深 hơn, để có thể tận hưởng hơn nhiều đến những gì tôi làm. Hãy luôn luôn cảm thấy đam mê và tự tin khi thực hiện những việc mà tôi làm và tôi sẽ luôn luôn sẵn sàng để giúp đỡ những người khác trong tương lai\n",
      "--------------------------------------------------------------------------------\n",
      "💬 Người dùng: Chán nản vì học hoài mà không tiến bộ.\n",
      "🧠 Cảm xúc phát hiện: Sadness\n",
      "💬 Qwen: \n",
      "--------------------------------------------------------------------------------\n",
      "💬 Người dùng: Cảm thấy ghét bản thân vì đã làm tổn thương người khác.\n",
      "🧠 Cảm xúc phát hiện: Sadness\n",
      "💬 Qwen: Tôi cảm thấy như tôi đang đối mặt với một quá trình nước mắt quan trọng. Tôi rất biết rằng khi chúng ta bắt đầu trải qua những sự cố và khó khăn, chúng ta thường cảm thấy được tâm lý về tự do và sự tự trọng hơn. Nhưng trong trường hợp này, tôi thấy rằng mình đang bị ảnh hưởng bởi tình trạng của người khác và tác động của sự thất bại đó.\n",
      "Tôi cảm thấy như tôi đang phải đối mặt với một sự cố trong cuộc sống của mình. Tôi có thể nghe thấy những lời khuyên từ các người bạn đồng cảm và tương tự, nhưng không thể tìm ra cách giải quyết\n",
      "--------------------------------------------------------------------------------\n"
     ]
    }
   ],
   "source": [
    "test_messages = [\n",
    "    \"Dạo này mình cảm thấy rất cô đơn, không ai hiểu mình cả.\",\n",
    "    \"Mình vừa bị mất việc, cảm thấy tuyệt vọng quá.\",\n",
    "    \"Hôm nay mình rất vui vì được khen trước cả lớp!\",\n",
    "    \"Chán nản vì học hoài mà không tiến bộ.\",\n",
    "    \"Cảm thấy ghét bản thân vì đã làm tổn thương người khác.\"\n",
    "]\n",
    "\n",
    "for msg in test_messages:\n",
    "    print(f\"💬 Người dùng: {msg}\")\n",
    "    \n",
    "    # Bước 1: Dự đoán cảm xúc\n",
    "    emotion = get_emotion(msg)\n",
    "    print(f\"🧠 Cảm xúc phát hiện: {emotion}\")\n",
    "    \n",
    "    # Bước 2: Sinh phản hồi\n",
    "    reply = generate_response(emotion, msg)\n",
    "    print(f\"💬 Qwen: {reply}\")\n",
    "    print(\"-\" * 80)"
   ]
  },
  {
   "cell_type": "code",
   "execution_count": null,
   "id": "bc68e7cf",
   "metadata": {},
   "outputs": [],
   "source": [
    "def chat():\n",
    "    print(\"💬 Xin chào! Bạn có thể chia sẻ bất kỳ điều gì — mình luôn lắng nghe.\")\n",
    "    while True:\n",
    "        user_input = input(\"\\nBạn: \").strip()\n",
    "        if user_input.lower() in ['quit', 'exit', 'thoát']:\n",
    "            print(\"Tạm biệt! ❤️\")\n",
    "            break\n",
    "        if not user_input:\n",
    "            continue\n",
    "            \n",
    "        emotion = get_emotion(user_input)\n",
    "        reply = generate_response(emotion, user_input)\n",
    "        print(f\"\\n🧠 Cảm xúc: {emotion}\")\n",
    "        print(f\"💬 Qwen: {reply}\")"
   ]
  }
 ],
 "metadata": {
  "kernelspec": {
   "display_name": "Python 3",
   "language": "python",
   "name": "python3"
  },
  "language_info": {
   "codemirror_mode": {
    "name": "ipython",
    "version": 3
   },
   "file_extension": ".py",
   "mimetype": "text/x-python",
   "name": "python",
   "nbconvert_exporter": "python",
   "pygments_lexer": "ipython3",
   "version": "3.11.1"
  }
 },
 "nbformat": 4,
 "nbformat_minor": 5
}
