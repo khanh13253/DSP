{
 "cells": [
  {
   "cell_type": "code",
   "execution_count": 1,
   "id": "d30e864d",
   "metadata": {},
   "outputs": [
    {
     "name": "stderr",
     "output_type": "stream",
     "text": [
      "C:\\Users\\Admin\\AppData\\Roaming\\Python\\Python311\\site-packages\\tqdm\\auto.py:21: TqdmWarning: IProgress not found. Please update jupyter and ipywidgets. See https://ipywidgets.readthedocs.io/en/stable/user_install.html\n",
      "  from .autonotebook import tqdm as notebook_tqdm\n"
     ]
    }
   ],
   "source": [
    "import os\n",
    "import pandas as pd\n",
    "import torch\n",
    "from transformers import AutoModelForSequenceClassification, AutoTokenizer\n",
    "from tqdm import tqdm\n",
    "import warnings\n",
    "warnings.filterwarnings(\"ignore\")"
   ]
  },
  {
   "cell_type": "code",
   "execution_count": 3,
   "id": "4a54ff23",
   "metadata": {},
   "outputs": [],
   "source": [
    "import yt_dlp\n",
    "\n",
    "def get_youtube_comments(video_url, max_comments=1000):\n",
    "    \"\"\"\n",
    "    Tải comment từ video YouTube bằng yt-dlp\n",
    "    \"\"\"\n",
    "    ydl_opts = {\n",
    "        'extract_flat': True,\n",
    "        'skip_download': True,\n",
    "        'quiet': True,\n",
    "        'no_warnings': True,\n",
    "        'extractor_args': {'youtube:comments': {'max_comments': [str(max_comments)]}},\n",
    "    }\n",
    "\n",
    "    comments = []\n",
    "    with yt_dlp.YoutubeDL(ydl_opts) as ydl:\n",
    "        try:\n",
    "            info = ydl.extract_info(video_url, download=False)\n",
    "            # yt-dlp không hỗ trợ comment trực tiếp → dùng cách khác\n",
    "        except Exception as e:\n",
    "            print(\"⚠️ yt-dlp không hỗ trợ lấy comment trực tiếp. Chuyển sang phương pháp thay thế.\")\n",
    "    \n",
    "    # ⚠️ Thực tế: yt-dlp KHÔNG hỗ trợ comment. Ta dùng `youtube-comment-downloader` thay thế.\n",
    "\n",
    "    return comments"
   ]
  },
  {
   "cell_type": "code",
   "execution_count": 5,
   "id": "47ae9188",
   "metadata": {},
   "outputs": [],
   "source": [
    "from youtube_comment_downloader import YoutubeCommentDownloader, SORT_BY_RECENT\n",
    "import json\n",
    "\n",
    "def download_youtube_comments(video_url, output_file=\"comments.json\", max_comments=1000):\n",
    "    downloader = YoutubeCommentDownloader()\n",
    "    comments = downloader.get_comments_from_url(video_url, sort_by=SORT_BY_RECENT)\n",
    "    \n",
    "    count = 0\n",
    "    with open(output_file, 'w', encoding='utf-8') as f:\n",
    "        for comment in comments:\n",
    "            if count >= max_comments:\n",
    "                break\n",
    "            json.dump(comment, f, ensure_ascii=False)\n",
    "            f.write('\\n')\n",
    "            count += 1\n",
    "    print(f\"✅ Đã lưu {count} comment vào {output_file}\")\n",
    "    return output_file"
   ]
  },
  {
   "cell_type": "code",
   "execution_count": 6,
   "id": "2892fb0e",
   "metadata": {},
   "outputs": [
    {
     "name": "stdout",
     "output_type": "stream",
     "text": [
      "✅ Đã lưu 1000 comment vào youtube_comments.json\n",
      "✅ Đã lưu 1000 comment vào youtube_comments.csv\n"
     ]
    }
   ],
   "source": [
    "VIDEO_URL = \"https://www.youtube.com/watch?v=JIVlYUUsPNE\"\n",
    "JSON_FILE = \"youtube_comments.json\"\n",
    "CSV_FILE = \"youtube_comments.csv\"\n",
    "\n",
    "# Tải comment (giới hạn 1000)\n",
    "download_youtube_comments(VIDEO_URL, JSON_FILE, max_comments=1000)\n",
    "\n",
    "# Chuyển JSON sang CSV\n",
    "comments = []\n",
    "with open(JSON_FILE, 'r', encoding='utf-8') as f:\n",
    "    for line in f:\n",
    "        if line.strip():\n",
    "            comments.append(json.loads(line))\n",
    "\n",
    "df = pd.DataFrame(comments)\n",
    "# Giữ lại cột quan trọng\n",
    "df = df[['text', 'author', 'votes', 'time']]\n",
    "df = df.rename(columns={\"text\": \"comment_text\"})\n",
    "\n",
    "# Lưu CSV\n",
    "df.to_csv(CSV_FILE, index=False, encoding='utf-8-sig')\n",
    "print(f\"✅ Đã lưu {len(df)} comment vào {CSV_FILE}\")"
   ]
  },
  {
   "cell_type": "code",
   "execution_count": 7,
   "id": "f3b3b93f",
   "metadata": {},
   "outputs": [
    {
     "name": "stdout",
     "output_type": "stream",
     "text": [
      "✅ Model loaded. Labels: ['Accepting', 'Anger', 'Disappointed', 'Disgust', 'Enjoyment', 'Fear', 'Highly Negative', 'Hopeless', 'Hurt', 'Indifferent', 'Loneliness', 'Lonely', 'Neutral', 'Other', 'Sadness', 'Spam', 'Surprise']\n"
     ]
    }
   ],
   "source": [
    "MODEL_PATH = \"./phobert-emotion-final\"\n",
    "\n",
    "model = AutoModelForSequenceClassification.from_pretrained(MODEL_PATH)\n",
    "tokenizer = AutoTokenizer.from_pretrained(MODEL_PATH)\n",
    "id2label = model.config.id2label\n",
    "\n",
    "print(\"✅ Model loaded. Labels:\", list(id2label.values()))"
   ]
  },
  {
   "cell_type": "code",
   "execution_count": 8,
   "id": "b29f06cd",
   "metadata": {},
   "outputs": [
    {
     "name": "stdout",
     "output_type": "stream",
     "text": [
      "Đang dự đoán cảm xúc...\n"
     ]
    },
    {
     "name": "stderr",
     "output_type": "stream",
     "text": [
      "100%|██████████| 1000/1000 [00:48<00:00, 20.66it/s]"
     ]
    },
    {
     "name": "stdout",
     "output_type": "stream",
     "text": [
      "✅ Đã lưu kết quả vào: youtube_comments_with_emotion.csv\n"
     ]
    },
    {
     "name": "stderr",
     "output_type": "stream",
     "text": [
      "\n"
     ]
    }
   ],
   "source": [
    "def predict_emotion(text):\n",
    "    if pd.isna(text) or not str(text).strip():\n",
    "        return \"Other\", 0.0\n",
    "    inputs = tokenizer(str(text), return_tensors=\"pt\", truncation=True, padding=True, max_length=128)\n",
    "    with torch.no_grad():\n",
    "        outputs = model(**inputs)\n",
    "        probs = torch.softmax(outputs.logits, dim=-1)\n",
    "        pred_idx = torch.argmax(probs, dim=-1).item()\n",
    "        confidence = probs[0][pred_idx].item()\n",
    "        emotion = id2label[pred_idx]\n",
    "    return emotion, confidence\n",
    "\n",
    "# Áp dụng cho toàn bộ\n",
    "print(\"Đang dự đoán cảm xúc...\")\n",
    "tqdm.pandas()\n",
    "df[['predicted_emotion', 'confidence']] = df['comment_text'].progress_apply(\n",
    "    lambda x: pd.Series(predict_emotion(x))\n",
    ")\n",
    "\n",
    "# Lưu kết quả\n",
    "OUTPUT_CSV = \"youtube_comments_with_emotion.csv\"\n",
    "df.to_csv(OUTPUT_CSV, index=False, encoding='utf-8-sig')\n",
    "print(f\"✅ Đã lưu kết quả vào: {OUTPUT_CSV}\")"
   ]
  },
  {
   "cell_type": "code",
   "execution_count": 9,
   "id": "2be72b27",
   "metadata": {},
   "outputs": [
    {
     "name": "stdout",
     "output_type": "stream",
     "text": [
      "📊 Phân bố cảm xúc:\n",
      "predicted_emotion\n",
      "Enjoyment     495\n",
      "Other         219\n",
      "Sadness       139\n",
      "Disgust       130\n",
      "Loneliness      9\n",
      "Fear            7\n",
      "Anger           1\n",
      "Name: count, dtype: int64\n",
      "\n",
      "💬 10 comment có độ tin cậy cao nhất:\n",
      "- [Sadness] (0.918) Anh ơi. Shop toàn hết hàng à. Mua áo khoác mà vào mấy lần rồi toàn hết...\n",
      "- [Enjoyment] (0.917) Vừa thấy Vũ là biết kết quả rồi… fan Vũ Trụ nha mọi người...\n",
      "- [Sadness] (0.915) Nhìn mấy chú tội 😞...\n",
      "- [Enjoyment] (0.914) Thấy team vui muốn hia nhập team ghê 😂😂...\n",
      "- [Enjoyment] (0.913) Trời ơi trời Bé Tú ❤ dễ thương 😅...\n",
      "- [Enjoyment] (0.913) mong ah ra thêm nhiều video hay hơn nx🥰...\n",
      "- [Enjoyment] (0.912) coi được 2’ đầu thấy mặt ông vũ trụ thì bt luon kết quả😂😂...\n",
      "- [Enjoyment] (0.912) Gala ô Vũ Trụ lại húp tiếp cái giải, ngon lành...\n",
      "- [Enjoyment] (0.911) A vũ bỏ ảnh đó Tết lên rước ảnh cũng ngon lành ❤...\n",
      "- [Enjoyment] (0.911) ước gì được a lâm mời đi thử thách xin tồn chúc a lâm nhiều sức khỏe và cả tem❤...\n"
     ]
    }
   ],
   "source": [
    "# 1. Phân bố cảm xúc\n",
    "print(\"📊 Phân bố cảm xúc:\")\n",
    "print(df['predicted_emotion'].value_counts())\n",
    "\n",
    "# 2. Hiển thị 10 comment có confidence cao nhất\n",
    "print(\"\\n💬 10 comment có độ tin cậy cao nhất:\")\n",
    "top_conf = df.nlargest(10, 'confidence')[['comment_text', 'predicted_emotion', 'confidence']]\n",
    "for _, row in top_conf.iterrows():\n",
    "    print(f\"- [{row['predicted_emotion']}] ({row['confidence']:.3f}) {row['comment_text'][:100]}...\")"
   ]
  },
  {
   "cell_type": "code",
   "execution_count": 10,
   "id": "03defe57",
   "metadata": {},
   "outputs": [
    {
     "name": "stdout",
     "output_type": "stream",
     "text": [
      "\n",
      "⚠️ Tìm thấy 277 comment tiêu cực.\n",
      "✅ Đã lưu vào: negative_comments_for_llm.csv\n"
     ]
    }
   ],
   "source": [
    "negative_emotions = ['Anger', 'Sadness', 'Disgust', 'Fear', 'Lonely', 'Hopeless', 'Hurt']\n",
    "df_negative = df[df['predicted_emotion'].isin(negative_emotions)]\n",
    "\n",
    "print(f\"\\n⚠️ Tìm thấy {len(df_negative)} comment tiêu cực.\")\n",
    "NEG_OUTPUT = \"negative_comments_for_llm.csv\"\n",
    "df_negative.to_csv(NEG_OUTPUT, index=False, encoding='utf-8-sig')\n",
    "print(f\"✅ Đã lưu vào: {NEG_OUTPUT}\")"
   ]
  },
  {
   "cell_type": "code",
   "execution_count": 11,
   "id": "4da21c87",
   "metadata": {},
   "outputs": [
    {
     "data": {
      "image/png": "[encoded data removed]",
      "text/plain": [
       "<Figure size 1200x800 with 1 Axes>"
      ]
     },
     "metadata": {},
     "output_type": "display_data"
    }
   ],
   "source": [
    "import matplotlib.pyplot as plt\n",
    "import seaborn as sns\n",
    "\n",
    "# Tải lại dữ liệu (nếu cần)\n",
    "df = pd.read_csv(\"youtube_comments_with_emotion.csv\")\n",
    "\n",
    "# Đếm số lượng theo emotion\n",
    "emotion_counts = df['predicted_emotion'].value_counts()\n",
    "\n",
    "# Vẽ biểu đồ cột\n",
    "plt.figure(figsize=(12, 8))\n",
    "ax = sns.barplot(x=emotion_counts.values, y=emotion_counts.index, palette=\"viridis\")\n",
    "plt.title(\"Phân bố cảm xúc trong comment YouTube\", fontsize=16, weight='bold')\n",
    "plt.xlabel(\"Số lượng comment\", fontsize=12)\n",
    "plt.ylabel(\"Cảm xúc\", fontsize=12)\n",
    "\n",
    "# Thêm số trên từng thanh\n",
    "for i, v in enumerate(emotion_counts.values):\n",
    "    ax.text(v + 1, i, str(v), color='black', va='center', fontweight='bold')\n",
    "\n",
    "plt.tight_layout()\n",
    "plt.show()"
   ]
  },
  {
   "cell_type": "code",
   "execution_count": 12,
   "id": "82855422",
   "metadata": {},
   "outputs": [
    {
     "data": {
      "image/png": "[encoded data removed]",
      "text/plain": [
       "<Figure size 800x500 with 1 Axes>"
      ]
     },
     "metadata": {},
     "output_type": "display_data"
    }
   ],
   "source": [
    "# Định nghĩa nhóm cảm xúc (bạn chỉnh theo hệ thống nhãn của mình)\n",
    "positive = {'Enjoyment', 'Accepting', 'Hopeful', 'Surprise'}  # bạn bổ sung theo label thực tế\n",
    "negative = {'Anger', 'Sadness', 'Disgust', 'Fear', 'Disappointed', 'Hopeless', 'Hurt', 'Lonely', 'Loneliness'}\n",
    "neutral = {'Other', 'Neutral', 'Indifferent', 'Spam'}\n",
    "\n",
    "def categorize_emotion(emotion):\n",
    "    if emotion in positive:\n",
    "        return 'Tích cực'\n",
    "    elif emotion in negative:\n",
    "        return 'Tiêu cực'\n",
    "    else:\n",
    "        return 'Trung lập/Khác'\n",
    "\n",
    "df['emotion_group'] = df['predicted_emotion'].apply(categorize_emotion)\n",
    "\n",
    "# Vẽ biểu đồ nhóm\n",
    "group_counts = df['emotion_group'].value_counts()\n",
    "plt.figure(figsize=(8, 5))\n",
    "sns.barplot(x=group_counts.index, y=group_counts.values, palette=\"Set2\")\n",
    "plt.title(\"Phân bố theo hướng cảm xúc\", fontsize=14)\n",
    "plt.ylabel(\"Số lượng comment\")\n",
    "for i, v in enumerate(group_counts.values):\n",
    "    plt.text(i, v + 1, str(v), ha='center', fontweight='bold')\n",
    "plt.tight_layout()\n",
    "plt.show()"
   ]
  }
 ],
 "metadata": {
  "kernelspec": {
   "display_name": "Python 3",
   "language": "python",
   "name": "python3"
  },
  "language_info": {
   "codemirror_mode": {
    "name": "ipython",
    "version": 3
   },
   "file_extension": ".py",
   "mimetype": "text/x-python",
   "name": "python",
   "nbconvert_exporter": "python",
   "pygments_lexer": "ipython3",
   "version": "3.11.1"
  }
 },
 "nbformat": 4,
 "nbformat_minor": 5
}
