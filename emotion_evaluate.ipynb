{
 "cells": [
  {
   "cell_type": "code",
   "execution_count": null,
   "id": "643e558a",
   "metadata": {},
   "outputs": [],
   "source": [
    "import torch\n",
    "from transformers import AutoTokenizer, AutoModelForSequenceClassification\n",
    "import pandas as pd\n",
    "from sklearn.metrics import classification_report, confusion_matrix, accuracy_score\n",
    "from datasets import Dataset"
   ]
  },
  {
   "cell_type": "code",
   "execution_count": null,
   "id": "e00f8fea",
   "metadata": {},
   "outputs": [],
   "source": [
    "MODEL_PATH = \"./phobert-emotion-model-final\"\n",
    "tokenizer = AutoTokenizer.from_pretrained(MODEL_PATH)\n",
    "model = AutoModelForSequenceClassification.from_pretrained(MODEL_PATH)\n",
    "\n",
    "device = torch.device(\"cuda\" if torch.cuda.is_available() else \"cpu\")\n",
    "model.to(device)\n",
    "model.eval()"
   ]
  },
  {
   "cell_type": "code",
   "execution_count": null,
   "id": "aafbeb15",
   "metadata": {},
   "outputs": [],
   "source": [
    "valid_df = pd.read_csv(\"data/UIT_valid_clean.csv\", encoding=\"utf-8-sig\")\n",
    "\n",
    "valid_emotions = {\"Anger\", \"Disgust\", \"Fear\", \"Enjoyment\", \"Sadness\", \"Surprise\", \"Other\"}\n",
    "valid_df = valid_df[valid_df[\"Emotion\"].str.capitalize().isin(valid_emotions)]\n",
    "valid_df[\"Emotion\"] = valid_df[\"Emotion\"].str.capitalize()\n",
    "\n",
    "label2id = {\"Anger\":0, \"Disgust\":1, \"Fear\":2, \"Enjoyment\":3, \"Sadness\":4, \"Surprise\":5, \"Other\":6}\n",
    "id2label = {v:k for k,v in label2id.items()}\n",
    "valid_df[\"Emotion\"] = valid_df[\"Emotion\"].map(label2id)\n",
    "\n",
    "# Predict\n",
    "def predict(texts):\n",
    "    inputs = tokenizer(texts, padding=True, truncation=True, max_length=128, return_tensors=\"pt\").to(device)\n",
    "    with torch.no_grad():\n",
    "        outputs = model(**inputs)\n",
    "        preds = torch.argmax(outputs.logits, dim=-1)\n",
    "    return preds.cpu().numpy()\n"
   ]
  },
  {
   "cell_type": "code",
   "execution_count": null,
   "id": "8ad9f850",
   "metadata": {},
   "outputs": [],
   "source": [
    "y_true = valid_df[\"Emotion\"].tolist()\n",
    "y_pred = []\n",
    "\n",
    "batch_size = 32\n",
    "for i in range(0, len(valid_df), batch_size):\n",
    "    batch_texts = valid_df[\"Clean_sentence\"].iloc[i:i+batch_size].tolist()\n",
    "    preds = predict(batch_texts)\n",
    "    y_pred.extend(preds)\n",
    "\n",
    "\n",
    "print(\"🔹 Accuracy:\", accuracy_score(y_true, y_pred))\n",
    "print(\"\\n🔹 Classification Report:\")\n",
    "print(classification_report(y_true, y_pred, target_names=list(label2id.keys())))\n",
    "\n",
    "print(\"\\n🔹 Confusion Matrix:\")\n",
    "print(confusion_matrix(y_true, y_pred))"
   ]
  }
 ],
 "metadata": {
  "language_info": {
   "name": "python"
  }
 },
 "nbformat": 4,
 "nbformat_minor": 5
}
