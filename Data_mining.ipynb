{
 "cells": [
  {
   "cell_type": "markdown",
   "id": "878acc09",
   "metadata": {},
   "source": [
    "Youtube Data v3"
   ]
  },
  {
   "cell_type": "code",
   "execution_count": 2,
   "id": "9faed8d0",
   "metadata": {},
   "outputs": [],
   "source": [
    "from googleapiclient.discovery import build\n",
    "import re\n",
    "import pandas as pd\n",
    "import os"
   ]
  },
  {
   "cell_type": "code",
   "execution_count": 3,
   "id": "897ae305",
   "metadata": {},
   "outputs": [
    {
     "ename": "DefaultCredentialsError",
     "evalue": "Your default credentials were not found. To set up Application Default Credentials, see https://cloud.google.com/docs/authentication/external/set-up-adc for more information.",
     "output_type": "error",
     "traceback": [
      "\u001b[31m---------------------------------------------------------------------------\u001b[39m",
      "\u001b[31mDefaultCredentialsError\u001b[39m                   Traceback (most recent call last)",
      "\u001b[36mCell\u001b[39m\u001b[36m \u001b[39m\u001b[32mIn[3]\u001b[39m\u001b[32m, line 3\u001b[39m\n\u001b[32m      1\u001b[39m API_KEY = \u001b[33m\"\u001b[39m\u001b[33m\"\u001b[39m\n\u001b[32m----> \u001b[39m\u001b[32m3\u001b[39m youtube = \u001b[43mbuild\u001b[49m\u001b[43m(\u001b[49m\u001b[33;43m'\u001b[39;49m\u001b[33;43myoutube\u001b[39;49m\u001b[33;43m'\u001b[39;49m\u001b[43m,\u001b[49m\u001b[43m \u001b[49m\u001b[33;43m'\u001b[39;49m\u001b[33;43mv3\u001b[39;49m\u001b[33;43m'\u001b[39;49m\u001b[43m,\u001b[49m\u001b[43m \u001b[49m\u001b[43mdeveloperKey\u001b[49m\u001b[43m=\u001b[49m\u001b[43mAPI_KEY\u001b[49m\u001b[43m)\u001b[49m\n",
      "\u001b[36mFile \u001b[39m\u001b[32m~\\AppData\\Roaming\\Python\\Python311\\site-packages\\googleapiclient\\_helpers.py:130\u001b[39m, in \u001b[36mpositional.<locals>.positional_decorator.<locals>.positional_wrapper\u001b[39m\u001b[34m(*args, **kwargs)\u001b[39m\n\u001b[32m    128\u001b[39m     \u001b[38;5;28;01melif\u001b[39;00m positional_parameters_enforcement == POSITIONAL_WARNING:\n\u001b[32m    129\u001b[39m         logger.warning(message)\n\u001b[32m--> \u001b[39m\u001b[32m130\u001b[39m \u001b[38;5;28;01mreturn\u001b[39;00m \u001b[43mwrapped\u001b[49m\u001b[43m(\u001b[49m\u001b[43m*\u001b[49m\u001b[43margs\u001b[49m\u001b[43m,\u001b[49m\u001b[43m \u001b[49m\u001b[43m*\u001b[49m\u001b[43m*\u001b[49m\u001b[43mkwargs\u001b[49m\u001b[43m)\u001b[49m\n",
      "\u001b[36mFile \u001b[39m\u001b[32m~\\AppData\\Roaming\\Python\\Python311\\site-packages\\googleapiclient\\discovery.py:315\u001b[39m, in \u001b[36mbuild\u001b[39m\u001b[34m(serviceName, version, http, discoveryServiceUrl, developerKey, model, requestBuilder, credentials, cache_discovery, cache, client_options, adc_cert_path, adc_key_path, num_retries, static_discovery, always_use_jwt_access)\u001b[39m\n\u001b[32m    303\u001b[39m \u001b[38;5;28;01mtry\u001b[39;00m:\n\u001b[32m    304\u001b[39m     content = _retrieve_discovery_doc(\n\u001b[32m    305\u001b[39m         requested_url,\n\u001b[32m    306\u001b[39m         discovery_http,\n\u001b[32m   (...)\u001b[39m\u001b[32m    313\u001b[39m         static_discovery=static_discovery,\n\u001b[32m    314\u001b[39m     )\n\u001b[32m--> \u001b[39m\u001b[32m315\u001b[39m     service = \u001b[43mbuild_from_document\u001b[49m\u001b[43m(\u001b[49m\n\u001b[32m    316\u001b[39m \u001b[43m        \u001b[49m\u001b[43mcontent\u001b[49m\u001b[43m,\u001b[49m\n\u001b[32m    317\u001b[39m \u001b[43m        \u001b[49m\u001b[43mbase\u001b[49m\u001b[43m=\u001b[49m\u001b[43mdiscovery_url\u001b[49m\u001b[43m,\u001b[49m\n\u001b[32m    318\u001b[39m \u001b[43m        \u001b[49m\u001b[43mhttp\u001b[49m\u001b[43m=\u001b[49m\u001b[43mhttp\u001b[49m\u001b[43m,\u001b[49m\n\u001b[32m    319\u001b[39m \u001b[43m        \u001b[49m\u001b[43mdeveloperKey\u001b[49m\u001b[43m=\u001b[49m\u001b[43mdeveloperKey\u001b[49m\u001b[43m,\u001b[49m\n\u001b[32m    320\u001b[39m \u001b[43m        \u001b[49m\u001b[43mmodel\u001b[49m\u001b[43m=\u001b[49m\u001b[43mmodel\u001b[49m\u001b[43m,\u001b[49m\n\u001b[32m    321\u001b[39m \u001b[43m        \u001b[49m\u001b[43mrequestBuilder\u001b[49m\u001b[43m=\u001b[49m\u001b[43mrequestBuilder\u001b[49m\u001b[43m,\u001b[49m\n\u001b[32m    322\u001b[39m \u001b[43m        \u001b[49m\u001b[43mcredentials\u001b[49m\u001b[43m=\u001b[49m\u001b[43mcredentials\u001b[49m\u001b[43m,\u001b[49m\n\u001b[32m    323\u001b[39m \u001b[43m        \u001b[49m\u001b[43mclient_options\u001b[49m\u001b[43m=\u001b[49m\u001b[43mclient_options\u001b[49m\u001b[43m,\u001b[49m\n\u001b[32m    324\u001b[39m \u001b[43m        \u001b[49m\u001b[43madc_cert_path\u001b[49m\u001b[43m=\u001b[49m\u001b[43madc_cert_path\u001b[49m\u001b[43m,\u001b[49m\n\u001b[32m    325\u001b[39m \u001b[43m        \u001b[49m\u001b[43madc_key_path\u001b[49m\u001b[43m=\u001b[49m\u001b[43madc_key_path\u001b[49m\u001b[43m,\u001b[49m\n\u001b[32m    326\u001b[39m \u001b[43m        \u001b[49m\u001b[43malways_use_jwt_access\u001b[49m\u001b[43m=\u001b[49m\u001b[43malways_use_jwt_access\u001b[49m\u001b[43m,\u001b[49m\n\u001b[32m    327\u001b[39m \u001b[43m    \u001b[49m\u001b[43m)\u001b[49m\n\u001b[32m    328\u001b[39m     \u001b[38;5;28;01mbreak\u001b[39;00m  \u001b[38;5;66;03m# exit if a service was created\u001b[39;00m\n\u001b[32m    329\u001b[39m \u001b[38;5;28;01mexcept\u001b[39;00m HttpError \u001b[38;5;28;01mas\u001b[39;00m e:\n",
      "\u001b[36mFile \u001b[39m\u001b[32m~\\AppData\\Roaming\\Python\\Python311\\site-packages\\googleapiclient\\_helpers.py:130\u001b[39m, in \u001b[36mpositional.<locals>.positional_decorator.<locals>.positional_wrapper\u001b[39m\u001b[34m(*args, **kwargs)\u001b[39m\n\u001b[32m    128\u001b[39m     \u001b[38;5;28;01melif\u001b[39;00m positional_parameters_enforcement == POSITIONAL_WARNING:\n\u001b[32m    129\u001b[39m         logger.warning(message)\n\u001b[32m--> \u001b[39m\u001b[32m130\u001b[39m \u001b[38;5;28;01mreturn\u001b[39;00m \u001b[43mwrapped\u001b[49m\u001b[43m(\u001b[49m\u001b[43m*\u001b[49m\u001b[43margs\u001b[49m\u001b[43m,\u001b[49m\u001b[43m \u001b[49m\u001b[43m*\u001b[49m\u001b[43m*\u001b[49m\u001b[43mkwargs\u001b[49m\u001b[43m)\u001b[49m\n",
      "\u001b[36mFile \u001b[39m\u001b[32m~\\AppData\\Roaming\\Python\\Python311\\site-packages\\googleapiclient\\discovery.py:616\u001b[39m, in \u001b[36mbuild_from_document\u001b[39m\u001b[34m(service, base, future, http, developerKey, model, requestBuilder, credentials, client_options, adc_cert_path, adc_key_path, always_use_jwt_access)\u001b[39m\n\u001b[32m    613\u001b[39m \u001b[38;5;66;03m# If the user didn't pass in credentials, attempt to acquire application\u001b[39;00m\n\u001b[32m    614\u001b[39m \u001b[38;5;66;03m# default credentials.\u001b[39;00m\n\u001b[32m    615\u001b[39m \u001b[38;5;28;01mif\u001b[39;00m credentials \u001b[38;5;129;01mis\u001b[39;00m \u001b[38;5;28;01mNone\u001b[39;00m:\n\u001b[32m--> \u001b[39m\u001b[32m616\u001b[39m     credentials = \u001b[43m_auth\u001b[49m\u001b[43m.\u001b[49m\u001b[43mdefault_credentials\u001b[49m\u001b[43m(\u001b[49m\n\u001b[32m    617\u001b[39m \u001b[43m        \u001b[49m\u001b[43mscopes\u001b[49m\u001b[43m=\u001b[49m\u001b[43mclient_options\u001b[49m\u001b[43m.\u001b[49m\u001b[43mscopes\u001b[49m\u001b[43m,\u001b[49m\n\u001b[32m    618\u001b[39m \u001b[43m        \u001b[49m\u001b[43mquota_project_id\u001b[49m\u001b[43m=\u001b[49m\u001b[43mclient_options\u001b[49m\u001b[43m.\u001b[49m\u001b[43mquota_project_id\u001b[49m\u001b[43m,\u001b[49m\n\u001b[32m    619\u001b[39m \u001b[43m    \u001b[49m\u001b[43m)\u001b[49m\n\u001b[32m    621\u001b[39m \u001b[38;5;66;03m# Check google-api-core >= 2.18.0 if credentials' universe != \"googleapis.com\".\u001b[39;00m\n\u001b[32m    622\u001b[39m _check_api_core_compatible_with_credentials_universe(credentials)\n",
      "\u001b[36mFile \u001b[39m\u001b[32m~\\AppData\\Roaming\\Python\\Python311\\site-packages\\googleapiclient\\_auth.py:57\u001b[39m, in \u001b[36mdefault_credentials\u001b[39m\u001b[34m(scopes, quota_project_id)\u001b[39m\n\u001b[32m     55\u001b[39m \u001b[38;5;250m\u001b[39m\u001b[33;03m\"\"\"Returns Application Default Credentials.\"\"\"\u001b[39;00m\n\u001b[32m     56\u001b[39m \u001b[38;5;28;01mif\u001b[39;00m HAS_GOOGLE_AUTH:\n\u001b[32m---> \u001b[39m\u001b[32m57\u001b[39m     credentials, _ = \u001b[43mgoogle\u001b[49m\u001b[43m.\u001b[49m\u001b[43mauth\u001b[49m\u001b[43m.\u001b[49m\u001b[43mdefault\u001b[49m\u001b[43m(\u001b[49m\n\u001b[32m     58\u001b[39m \u001b[43m        \u001b[49m\u001b[43mscopes\u001b[49m\u001b[43m=\u001b[49m\u001b[43mscopes\u001b[49m\u001b[43m,\u001b[49m\u001b[43m \u001b[49m\u001b[43mquota_project_id\u001b[49m\u001b[43m=\u001b[49m\u001b[43mquota_project_id\u001b[49m\n\u001b[32m     59\u001b[39m \u001b[43m    \u001b[49m\u001b[43m)\u001b[49m\n\u001b[32m     60\u001b[39m     \u001b[38;5;28;01mreturn\u001b[39;00m credentials\n\u001b[32m     61\u001b[39m \u001b[38;5;28;01melif\u001b[39;00m HAS_OAUTH2CLIENT:\n",
      "\u001b[36mFile \u001b[39m\u001b[32m~\\AppData\\Roaming\\Python\\Python311\\site-packages\\google\\auth\\_default.py:685\u001b[39m, in \u001b[36mdefault\u001b[39m\u001b[34m(scopes, request, quota_project_id, default_scopes)\u001b[39m\n\u001b[32m    677\u001b[39m             _LOGGER.warning(\n\u001b[32m    678\u001b[39m                 \u001b[33m\"\u001b[39m\u001b[33mNo project ID could be determined. Consider running \u001b[39m\u001b[33m\"\u001b[39m\n\u001b[32m    679\u001b[39m                 \u001b[33m\"\u001b[39m\u001b[33m`gcloud config set project` or setting the \u001b[39m\u001b[38;5;132;01m%s\u001b[39;00m\u001b[33m \u001b[39m\u001b[33m\"\u001b[39m\n\u001b[32m    680\u001b[39m                 \u001b[33m\"\u001b[39m\u001b[33menvironment variable\u001b[39m\u001b[33m\"\u001b[39m,\n\u001b[32m    681\u001b[39m                 environment_vars.PROJECT,\n\u001b[32m    682\u001b[39m             )\n\u001b[32m    683\u001b[39m         \u001b[38;5;28;01mreturn\u001b[39;00m credentials, effective_project_id\n\u001b[32m--> \u001b[39m\u001b[32m685\u001b[39m \u001b[38;5;28;01mraise\u001b[39;00m exceptions.DefaultCredentialsError(_CLOUD_SDK_MISSING_CREDENTIALS)\n",
      "\u001b[31mDefaultCredentialsError\u001b[39m: Your default credentials were not found. To set up Application Default Credentials, see https://cloud.google.com/docs/authentication/external/set-up-adc for more information."
     ]
    }
   ],
   "source": [
    "API_KEY = \"\"\n",
    "\n",
    "youtube = build('youtube', 'v3', developerKey=API_KEY)"
   ]
  },
  {
   "cell_type": "code",
   "execution_count": null,
   "id": "cbce83f2",
   "metadata": {},
   "outputs": [],
   "source": [
    "def clean_newlines(text):\n",
    "    return \" \".join(text.split()).strip()\n",
    "\n",
    "def remove_emojis(text):\n",
    "    emoji_pattern = re.compile(\n",
    "        \"[\"  \n",
    "        \"\\U0001F600-\\U0001F64F\"  # Emoticons\n",
    "        \"\\U0001F300-\\U0001F5FF\"  # Symbols & pictographs\n",
    "        \"\\U0001F680-\\U0001F6FF\"  # Transport & map\n",
    "        \"\\U0001F1E0-\\U0001F1FF\"  # Flags\n",
    "        \"\\U00002700-\\U000027BF\"  # Dingbats\n",
    "        \"\\U000024C2-\\U0001F251\"  # Enclosed\n",
    "        \"]+\", flags=re.UNICODE\n",
    "    )\n",
    "    return emoji_pattern.sub(r'', text)\n",
    "\n",
    "def preprocess_comment(text):\n",
    "    text = clean_newlines(text)\n",
    "    text = remove_emojis(text)\n",
    "    return text.strip()\n",
    "\n",
    "def get_long_comments(video_id, min_words=25, max_results=100):\n",
    "    next_page_token = None\n",
    "    comments = []\n",
    "\n",
    "    while True:\n",
    "        response = youtube.commentThreads().list(\n",
    "            part='snippet',\n",
    "            videoId=video_id,\n",
    "            maxResults=max_results,\n",
    "            pageToken=next_page_token,\n",
    "            textFormat='plainText'\n",
    "        ).execute()\n",
    "\n",
    "        for item in response['items']:\n",
    "            comment_text = item['snippet']['topLevelComment']['snippet']['textDisplay']\n",
    "            comment_text = preprocess_comment(comment_text)\n",
    "            if len(comment_text.split()) >= min_words:\n",
    "                comments.append(comment_text)\n",
    "\n",
    "        if 'nextPageToken' in response and len(comments) < max_results:\n",
    "            next_page_token = response['nextPageToken']\n",
    "        else:\n",
    "            break\n",
    "\n",
    "    return comments"
   ]
  },
  {
   "cell_type": "code",
   "execution_count": null,
   "id": "9521a24c",
   "metadata": {},
   "outputs": [
    {
     "name": "stdout",
     "output_type": "stream",
     "text": [
      "Đang lấy comment dài cho video: cNq1xqqBVHQ\n",
      "Đã lấy 64 comment dài cho video cNq1xqqBVHQ\n",
      "Nội dung new_comments: ['Kết truyện thật bất ngờ  đã nào năm qua lầm lỡ lại tiếp tục lỡ lầm Nếu là tôi khi khi ông Quân hỏi “yêu anh thêm lần nữa đc k e?” Chắc t trả lời: “thôi anh à, e ngu 1 lần để phí bao năm thanh xuân, ngu chi thêm lần 2”', '1 người đàn ông tệ bạc như Quân lại được 1 kết cuộc viên mãn hạnh phúc. 1 câu chuyện chẳng có 1 tính nhân văn nào', 'truyện mà làm sao giống thực tế được, nhưng mà nó hợp lý. rút ra bài học: đàn ông tốt kiểu đứng đắng đàng hoàng thì khó có hạnh phúc. dĩ nhiên sẽ có người hợp nhưng rất ít. anh rất tốt nhưng em rất tiếc. phụ nữ không chỉ yêu bằng tấm lòng mà còn yêu bằng tình dục. Quân vừa có tấm lòng vừa có tình dục thì hoàn toàn xứng đáng.', 'Thấy m.n comment mới biết du chua nghe het, ngoại tình lần 1 sẽ có lần 2 vì đó là bản tính. C về với ck cũ dù sống bên nhau nhưng cai gai ngoai tinh vẫn còn đó sớm ngày cũng sẽ đâm chảy máu lần 2', 'khi yêu 1 ng thật lòng thì khó quên, tôi đồng cảm với bạn nữ vì quân là tình yêu đầu đời, thứ tình cảm ngây thơ trong sáng yêu bằng tất cả tấm lòng còn Hùng chỉ đến sau dù có đối xử tốt thì ko ai có thể làm trái với trái tim mình']\n"
     ]
    }
   ],
   "source": [
    "old_video_ids = ['l54DE-CS1z4', 'Y2s0g9xGWVY', '_cKeLsxwRSU', '4CAQ4odYfhI','z_g5p38fNuU','GoJGVp0m0xk', 'aEWJ6JIQfPE', '6-YEpvc_HJY']\n",
    "\n",
    "video_ids = ['cNq1xqqBVHQ']\n",
    "long_comments = []\n",
    "\n",
    "for vid in video_ids:\n",
    "    print(f\"Mining comment of video: {vid}\")\n",
    "    new_comments = get_long_comments(vid)\n",
    "    long_comments.extend(new_comments)\n",
    "    print(f\"Mined {len(new_comments)} comment for video {vid}\")\n",
    "    print(\"First 5 new_comments:\", new_comments[:5])\n",
    "\n"
   ]
  },
  {
   "cell_type": "code",
   "execution_count": null,
   "id": "f5782c3f",
   "metadata": {},
   "outputs": [],
   "source": [
    "# If the file existed, read the file first\n",
    "if os.path.exists(\"data/comments.csv\"):\n",
    "    old_df = pd.read_csv(\"data/comments.csv\", encoding=\"utf-8-sig\")\n",
    "else:\n",
    "    old_df = pd.DataFrame(columns=[\"comment\", \"emotion\"])\n",
    "\n",
    "# Turn new comment into DataFrame\n",
    "new_df = pd.DataFrame(long_comments, columns=[\"comment\"])\n",
    "\n",
    "# Add empty emotion column\n",
    "if \"emotion\" not in new_df.columns:\n",
    "    new_df[\"emotion\"] = \"\"\n",
    "\n",
    "new_df = new_df.reindex(columns=old_df.columns, fill_value=\"\")\n",
    "\n",
    "# Concat\n",
    "df = pd.concat([old_df, new_df], ignore_index=True)\n",
    "\n",
    "# Rewirte file\n",
    "df.to_csv(\"data/comments.csv\", index=False, encoding=\"utf-8-sig\")"
   ]
  },
  {
   "cell_type": "markdown",
   "id": "33c4db9b",
   "metadata": {},
   "source": [
    "UIT-VSMEC"
   ]
  },
  {
   "cell_type": "code",
   "execution_count": 3,
   "id": "83a35766",
   "metadata": {},
   "outputs": [],
   "source": [
    "import unicodedata\n",
    "\n",
    "df_train = pd.read_csv(\"data/UIT_train.csv\")\n",
    "df_test = pd.read_csv(\"data/UIT_test.csv\")\n",
    "df_valid = pd.read_csv(\"data/UIT_valid.csv\")"
   ]
  },
  {
   "cell_type": "code",
   "execution_count": 4,
   "id": "9a3a7b10",
   "metadata": {},
   "outputs": [],
   "source": [
    "def normalize_vietnamese(text):\n",
    "    return unicodedata.normalize('NFC', str(text))\n",
    "\n",
    "def clean_newlines(text):\n",
    "    return \" \".join(text.split()).strip()\n",
    "\n",
    "def remove_emojis(text):\n",
    "    \"\"\"Delete emoji Unicode.\"\"\"\n",
    "    emoji_pattern = re.compile(\n",
    "        \"[\"  \n",
    "        \"\\U0001F600-\\U0001F64F\"  # emoticons\n",
    "        \"\\U0001F300-\\U0001F5FF\"  # symbols & pictographs\n",
    "        \"\\U0001F680-\\U0001F6FF\"  # transport & map symbols\n",
    "        \"\\U0001F1E0-\\U0001F1FF\"  # flags\n",
    "        \"\\U00002700-\\U000027BF\"  # dingbats\n",
    "        \"\\U000024C2-\\U0001F251\"  # enclosed characters\n",
    "        \"]+\", flags=re.UNICODE\n",
    "    )\n",
    "    return emoji_pattern.sub(r'', text)\n",
    "\n",
    "def remove_special_chars(text):\n",
    "    \"\"\"Remove special character, link, hashtag, mention.\"\"\"\n",
    "    text = re.sub(r\"http\\S+\", \"\", text)     # link\n",
    "    text = re.sub(r\"www\\S+\", \"\", text)      # www\n",
    "    text = re.sub(r\"[@#]\\w+\", \"\", text)     # @username, #hashtag\n",
    "    text = re.sub(r\"[^0-9A-Za-zÀ-Ỹà-ỹ\\s.,!?]\", \" \", text)\n",
    "    return text.strip()\n",
    "\n",
    "def normalize_spaces(text):\n",
    "    return re.sub(r'\\s+', ' ', text).strip()\n",
    "\n",
    "def preprocess_text(text):\n",
    "    \"\"\"Pipeline preprocess text.\"\"\"\n",
    "    text = normalize_vietnamese(text)\n",
    "    text = text.lower()\n",
    "    text = clean_newlines(text)\n",
    "    text = remove_emojis(text)\n",
    "    text = remove_special_chars(text)\n",
    "    text = normalize_spaces(text)\n",
    "    return text"
   ]
  },
  {
   "cell_type": "code",
   "execution_count": 9,
   "id": "10ec4587",
   "metadata": {},
   "outputs": [
    {
     "name": "stdout",
     "output_type": "stream",
     "text": [
      "\n",
      "📊 Train set:\n",
      "Emotion\n",
      "Enjoyment    1525\n",
      "Disgust      1042\n",
      "Other        1018\n",
      "Sadness       936\n",
      "Anger         384\n",
      "Fear          311\n",
      "Surprise      239\n",
      "Name: count, dtype: int64\n",
      "Sample: 5455\n",
      "\n",
      "📊 Test set:\n",
      "Emotion\n",
      "Enjoyment    185\n",
      "Other        129\n",
      "Disgust      128\n",
      "Sadness      114\n",
      "Fear          46\n",
      "Anger         40\n",
      "Surprise      37\n",
      "Name: count, dtype: int64\n",
      "Sample: 679\n",
      "\n",
      "📊 Valid set:\n",
      "Emotion\n",
      "Enjoyment    208\n",
      "Other        141\n",
      "Disgust      130\n",
      "Sadness       85\n",
      "Anger         48\n",
      "Fear          31\n",
      "Surprise      30\n",
      "Name: count, dtype: int64\n",
      "Sample: 673\n",
      "\n",
      " File is cleaned and saved at: UIT_train_clean.csv\n",
      "\n",
      " File is cleaned and saved at: UIT_test_clean.csv\n",
      "\n",
      " File is cleaned and saved at: UIT_valid_clean.csv\n"
     ]
    }
   ],
   "source": [
    "def clean_dataset(df):\n",
    "    df[\"Clean_sentence\"] = df[\"Sentence\"].apply(preprocess_text)\n",
    "    df = df[df[\"Clean_sentence\"].apply(lambda x: len(x.split()) >= 3)]\n",
    "    df = df.reset_index(drop=True)\n",
    "    return df\n",
    "\n",
    "df_train = clean_dataset(df_train)\n",
    "df_test = clean_dataset(df_test)\n",
    "df_valid = clean_dataset(df_valid)\n",
    "\n",
    "for name, df in [(\"Train\", df_train), (\"Test\", df_test), (\"Valid\", df_valid)]:\n",
    "    print(f\"\\n📊 {name} set:\")\n",
    "    print(df[\"Emotion\"].value_counts())\n",
    "    print(f\"Sample: {len(df)}\")\n",
    "\n",
    "df_train[[\"Clean_sentence\", \"Emotion\"]].to_csv(\"data/UIT_train_clean.csv\", index=False, encoding=\"utf-8-sig\")\n",
    "df_test[[\"Clean_sentence\", \"Emotion\"]].to_csv(\"data/UIT_test_clean.csv\", index=False, encoding=\"utf-8-sig\")\n",
    "df_valid[[\"Clean_sentence\", \"Emotion\"]].to_csv(\"data/UIT_valid_clean.csv\", index=False, encoding=\"utf-8-sig\")\n",
    "\n",
    "print(\"\\n File is cleaned and saved at: UIT_train_clean.csv\")\n",
    "print(\"\\n File is cleaned and saved at: UIT_test_clean.csv\")\n",
    "print(\"\\n File is cleaned and saved at: UIT_valid_clean.csv\")"
   ]
  }
 ],
 "metadata": {
  "kernelspec": {
   "display_name": "Python 3",
   "language": "python",
   "name": "python3"
  },
  "language_info": {
   "codemirror_mode": {
    "name": "ipython",
    "version": 3
   },
   "file_extension": ".py",
   "mimetype": "text/x-python",
   "name": "python",
   "nbconvert_exporter": "python",
   "pygments_lexer": "ipython3",
   "version": "3.11.1"
  }
 },
 "nbformat": 4,
 "nbformat_minor": 5
}
